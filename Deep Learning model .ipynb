{
 "cells": [
  {
   "cell_type": "code",
   "execution_count": 13,
   "id": "c3261bb2",
   "metadata": {},
   "outputs": [],
   "source": [
    "import numpy as np\n",
    "import pandas as pd\n",
    "from sklearn.model_selection import train_test_split\n",
    "from sklearn.preprocessing import StandardScaler\n",
    "from tensorflow.keras.models import Sequential\n",
    "from tensorflow.keras.layers import Dense, Dropout\n",
    "from urllib.parse import urlparse\n"
   ]
  },
  {
   "cell_type": "code",
   "execution_count": 7,
   "id": "3315e65f",
   "metadata": {},
   "outputs": [],
   "source": [
    "# Load the dataset\n",
    "data = pd.read_csv(\"dataset.csv\")\n",
    "data['status'] = data['status'].map({'legitimate': 0, 'phishing': 1})\n",
    "\n",
    "# Select relevant features for X and target variable for y\n",
    "X = data[['length_url', 'length_hostname', 'ip', 'nb_dots', 'nb_hyphens', 'nb_at', 'nb_qm', \n",
    "          'nb_and', 'nb_or', 'nb_eq', 'nb_underscore', 'nb_tilde', 'nb_percent', 'nb_slash', \n",
    "          'nb_star', 'nb_colon', 'nb_comma', 'nb_semicolumn', 'nb_dollar', 'nb_space', 'nb_www', \n",
    "          'nb_com', 'nb_dslash', 'http_in_path', 'https_token', 'ratio_digits_url', 'ratio_digits_host', \n",
    "          'punycode', 'port', 'tld_in_path', 'tld_in_subdomain', 'abnormal_subdomain', 'nb_subdomains', \n",
    "          'prefix_suffix', 'random_domain', 'shortening_service', 'path_extension', 'nb_redirection', \n",
    "          'nb_external_redirection', 'length_words_raw', 'char_repeat', 'shortest_words_raw', \n",
    "          'shortest_word_host', 'shortest_word_path', 'longest_words_raw', 'longest_word_host', \n",
    "          'longest_word_path', 'avg_words_raw', 'avg_word_host', 'avg_word_path', 'nb_hyperlinks', \n",
    "          'ratio_intHyperlinks', 'ratio_extHyperlinks', 'ratio_nullHyperlinks', 'nb_extCSS', \n",
    "          'ratio_intRedirection', 'ratio_extRedirection', 'ratio_intErrors', 'ratio_extErrors', \n",
    "          'login_form', 'external_favicon', 'links_in_tags', 'submit_email', 'ratio_intMedia', \n",
    "          'ratio_extMedia', 'sfh', 'iframe', 'popup_window', 'safe_anchor', 'onmouseover', \n",
    "          'right_clic', 'empty_title', 'domain_in_title', 'domain_with_copyright', \n",
    "          'whois_registered_domain', 'domain_registration_length', 'domain_age', 'web_traffic', \n",
    "          'dns_record', 'google_index', 'page_rank']]\n",
    "\n",
    "y = data['status']\n"
   ]
  },
  {
   "cell_type": "code",
   "execution_count": 8,
   "id": "cfb9b149",
   "metadata": {},
   "outputs": [
    {
     "data": {
      "text/plain": [
       "0        0\n",
       "1        1\n",
       "2        1\n",
       "3        0\n",
       "4        0\n",
       "        ..\n",
       "11425    0\n",
       "11426    1\n",
       "11427    0\n",
       "11428    0\n",
       "11429    1\n",
       "Name: status, Length: 11430, dtype: int64"
      ]
     },
     "execution_count": 8,
     "metadata": {},
     "output_type": "execute_result"
    }
   ],
   "source": [
    "y"
   ]
  },
  {
   "cell_type": "code",
   "execution_count": 9,
   "id": "f773e012",
   "metadata": {},
   "outputs": [],
   "source": [
    "# Split the data into training and testing sets\n",
    "X_train, X_test, y_train, y_test = train_test_split(X, y, test_size=0.2, random_state=42)\n",
    "\n",
    "# Scale the features\n",
    "scaler = StandardScaler()\n",
    "X_train_scaled = scaler.fit_transform(X_train)\n",
    "X_test_scaled = scaler.transform(X_test)"
   ]
  },
  {
   "cell_type": "code",
   "execution_count": 10,
   "id": "5136e14f",
   "metadata": {},
   "outputs": [],
   "source": [
    "\n",
    "# Build the model\n",
    "model = Sequential([\n",
    "    Dense(128, activation='relu', input_shape=(X_train_scaled.shape[1],)),\n",
    "    Dropout(0.5),\n",
    "    Dense(64, activation='relu'),\n",
    "    Dropout(0.5),\n",
    "    Dense(1, activation='sigmoid')\n",
    "])\n",
    "\n",
    "# Compile the model\n",
    "model.compile(optimizer='adam', loss='binary_crossentropy', metrics=['accuracy'])\n"
   ]
  },
  {
   "cell_type": "code",
   "execution_count": 11,
   "id": "866a6a38",
   "metadata": {},
   "outputs": [
    {
     "name": "stdout",
     "output_type": "stream",
     "text": [
      "Epoch 1/10\n",
      "229/229 [==============================] - 1s 3ms/step - loss: 0.3618 - accuracy: 0.8461 - val_loss: 0.1771 - val_accuracy: 0.9333\n",
      "Epoch 2/10\n",
      "229/229 [==============================] - 0s 2ms/step - loss: 0.2203 - accuracy: 0.9215 - val_loss: 0.1541 - val_accuracy: 0.9420\n",
      "Epoch 3/10\n",
      "229/229 [==============================] - 1s 2ms/step - loss: 0.2002 - accuracy: 0.9292 - val_loss: 0.1486 - val_accuracy: 0.9437\n",
      "Epoch 4/10\n",
      "229/229 [==============================] - 1s 2ms/step - loss: 0.1756 - accuracy: 0.9394 - val_loss: 0.1478 - val_accuracy: 0.9453\n",
      "Epoch 5/10\n",
      "229/229 [==============================] - 0s 2ms/step - loss: 0.1649 - accuracy: 0.9407 - val_loss: 0.1413 - val_accuracy: 0.9475\n",
      "Epoch 6/10\n",
      "229/229 [==============================] - 0s 2ms/step - loss: 0.1572 - accuracy: 0.9435 - val_loss: 0.1365 - val_accuracy: 0.9470\n",
      "Epoch 7/10\n",
      "229/229 [==============================] - 0s 2ms/step - loss: 0.1506 - accuracy: 0.9464 - val_loss: 0.1358 - val_accuracy: 0.9475\n",
      "Epoch 8/10\n",
      "229/229 [==============================] - 1s 2ms/step - loss: 0.1426 - accuracy: 0.9520 - val_loss: 0.1295 - val_accuracy: 0.9508\n",
      "Epoch 9/10\n",
      "229/229 [==============================] - 1s 2ms/step - loss: 0.1348 - accuracy: 0.9512 - val_loss: 0.1273 - val_accuracy: 0.9530\n",
      "Epoch 10/10\n",
      "229/229 [==============================] - 1s 2ms/step - loss: 0.1352 - accuracy: 0.9511 - val_loss: 0.1295 - val_accuracy: 0.9519\n",
      "Model trained\n"
     ]
    }
   ],
   "source": [
    "# Train the model\n",
    "history = model.fit(X_train_scaled, y_train, epochs=10, batch_size=32, validation_split=0.2)\n",
    "print(\"Model trained\")"
   ]
  },
  {
   "cell_type": "code",
   "execution_count": 29,
   "id": "f8edc6a3",
   "metadata": {},
   "outputs": [
    {
     "name": "stdout",
     "output_type": "stream",
     "text": [
      "72/72 [==============================] - 0s 1ms/step - loss: 0.1140 - accuracy: 0.9563\n",
      "Test Accuracy: 0.9562554955482483\n"
     ]
    }
   ],
   "source": [
    "# Evaluate the model\n",
    "test_loss, test_acc = model.evaluate(X_test_scaled, y_test)\n",
    "print(\"Test Accuracy:\", test_acc)"
   ]
  },
  {
   "cell_type": "code",
   "execution_count": 31,
   "id": "0acecb87",
   "metadata": {},
   "outputs": [],
   "source": []
  },
  {
   "cell_type": "code",
   "execution_count": 33,
   "id": "ebfd8d56",
   "metadata": {
    "scrolled": true
   },
   "outputs": [
    {
     "name": "stdout",
     "output_type": "stream",
     "text": [
      "{'length_url': 37, 'length_hostname': 19, 'ip': 0, 'nb_dots': 3, 'nb_hyphens': 0, 'nb_at': 0, 'nb_qm': 0, 'nb_and': 0, 'nb_or': 0, 'nb_eq': 0, 'nb_underscore': 0, 'nb_tilde': 0, 'nb_percent': 0, 'nb_slash': 3, 'nb_star': 0, 'nb_colon': 1, 'nb_comma': 0, 'nb_semicolumn': 0, 'nb_dollar': 0, 'nb_space': 0, 'nb_www': 1, 'nb_com': 1, 'nb_dslash': 1, 'http_in_path': 0, 'https_token': False, 'ratio_digits_url': 0.0, 'ratio_digits_host': 0.0, 'punycode': 0, 'port': 0}\n",
      "1/1 [==============================] - 0s 19ms/step\n",
      "The URL 'http://www.crestonwood.com/router.php' is likely to be phishing with probability: [0.89918214]\n"
     ]
    }
   ],
   "source": [
    "\n",
    "# Function to extract features from a single URL\n",
    "def extract_features_from_url(url):\n",
    "    parsed_url = urlparse(url)\n",
    "    features = {\n",
    "        'length_url': len(url),\n",
    "        'length_hostname': len(parsed_url.hostname) if parsed_url.hostname else 0,\n",
    "        'ip': int(parsed_url.hostname.replace('.', '').isdigit()) if parsed_url.hostname else 0,\n",
    "        'nb_dots': url.count('.'),\n",
    "        'nb_hyphens': url.count('-'),\n",
    "        'nb_at': url.count('@'),\n",
    "        'nb_qm': url.count('?'),\n",
    "        'nb_and': url.count('&'),\n",
    "        'nb_or': url.count('|'),\n",
    "        'nb_eq': url.count('='),\n",
    "        'nb_underscore': url.count('_'),\n",
    "        'nb_tilde': url.count('~'),\n",
    "        'nb_percent': url.count('%'),\n",
    "        'nb_slash': url.count('/'),\n",
    "        'nb_star': url.count('*'),\n",
    "        'nb_colon': url.count(':'),\n",
    "        'nb_comma': url.count(','),\n",
    "        'nb_semicolumn': url.count(';'),\n",
    "        'nb_dollar': url.count('$'),\n",
    "        'nb_space': url.count(' '),\n",
    "        'nb_www': url.count('www'),\n",
    "        'nb_com': url.count('.com'),\n",
    "        'nb_dslash': url.count('//'),\n",
    "        'http_in_path': int('http' in parsed_url.path),\n",
    "        'https_token': int('https' in url),\n",
    "        'ratio_digits_url': sum(c.isdigit() for c in url) / len(url),\n",
    "        'ratio_digits_host': sum(c.isdigit() for c in parsed_url.hostname) / len(parsed_url.hostname) if parsed_url.hostname else 0,\n",
    "        'punycode':int('xn--' in parsed_url.hostname),\n",
    "        'port':int(bool(parsed_url.port)),\n",
    "        \n",
    "        \n",
    "    }\n",
    "    print(features)\n",
    "    \n",
    "    # Set all other features to 0\n",
    "    for feature in [  'tld_in_path', 'tld_in_subdomain', 'abnormal_subdomain', 'nb_subdomains', \n",
    "                    'prefix_suffix', 'random_domain', 'shortening_service', 'path_extension', 'nb_redirection', \n",
    "                    'nb_external_redirection', 'length_words_raw', 'char_repeat', 'shortest_words_raw', \n",
    "                    'shortest_word_host', 'shortest_word_path', 'longest_words_raw', 'longest_word_host', \n",
    "                    'longest_word_path', 'avg_words_raw', 'avg_word_host', 'avg_word_path', 'nb_hyperlinks', \n",
    "                    'ratio_intHyperlinks', 'ratio_extHyperlinks', 'ratio_nullHyperlinks', 'nb_extCSS', \n",
    "                    'ratio_intRedirection', 'ratio_extRedirection', 'ratio_intErrors', 'ratio_extErrors', \n",
    "                    'login_form', 'external_favicon', 'links_in_tags', 'submit_email', 'ratio_intMedia', \n",
    "                    'ratio_extMedia', 'sfh', 'iframe', 'popup_window', 'safe_anchor', 'onmouseover', \n",
    "                    'right_clic', 'empty_title', 'domain_in_title', 'domain_with_copyright', \n",
    "                    'whois_registered_domain', 'domain_registration_length', 'domain_age', 'web_traffic', \n",
    "                    'dns_record', 'google_index', 'page_rank']:\n",
    "        features[feature] = 0\n",
    "    \n",
    "    return features\n",
    "\n",
    "\n",
    "\n",
    "\n",
    "\n",
    "# Function to test a single URL\n",
    "def test_single_url(url, model, scaler):\n",
    "    # Extract features from the URL\n",
    "    url_features = extract_features_from_url(url)\n",
    "    # Convert features to DataFrame\n",
    "    df = pd.DataFrame([url_features])\n",
    "    # Scale the features\n",
    "    scaled_features = scaler.transform(df)\n",
    "    # Predict probability using the model\n",
    "    probability = model.predict(scaled_features)\n",
    "    return probability[0]\n",
    "\n",
    "# URL to test\n",
    "test_url = \"http://www.crestonwood.com/router.php\"\n",
    "\n",
    "# Test the URL\n",
    "phishing_probability = test_single_url(test_url, model, scaler)\n",
    "\n",
    "# Set a threshold for phishing detection\n",
    "threshold = 0.5\n",
    "\n",
    "# Classify the URL based on the threshold\n",
    "if phishing_probability >= threshold:\n",
    "    print(f\"The URL '{test_url}' is likely to be phishing with probability: {phishing_probability}\")\n",
    "else:\n",
    "    print(f\"The URL '{test_url}' is likely to be legitimate with probability: {1 - phishing_probability}\")"
   ]
  },
  {
   "cell_type": "code",
   "execution_count": null,
   "id": "c651fb35",
   "metadata": {},
   "outputs": [],
   "source": []
  }
 ],
 "metadata": {
  "kernelspec": {
   "display_name": "Python 3 (ipykernel)",
   "language": "python",
   "name": "python3"
  },
  "language_info": {
   "codemirror_mode": {
    "name": "ipython",
    "version": 3
   },
   "file_extension": ".py",
   "mimetype": "text/x-python",
   "name": "python",
   "nbconvert_exporter": "python",
   "pygments_lexer": "ipython3",
   "version": "3.10.2"
  }
 },
 "nbformat": 4,
 "nbformat_minor": 5
}
